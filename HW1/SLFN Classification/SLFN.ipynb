{
 "cells": [
  {
   "cell_type": "code",
   "execution_count": 370,
   "id": "a7b830ac",
   "metadata": {},
   "outputs": [],
   "source": [
    "import numpy as np\n",
    "import matplotlib.pyplot as plt\n",
    "import matplotlib.colors\n",
    "from sklearn.model_selection import train_test_split\n",
    "from tqdm.auto import tqdm\n",
    "from sklearn.preprocessing import StandardScaler, OneHotEncoder\n",
    "import pandas as pd\n",
    "from sklearn.metrics import *"
   ]
  },
  {
   "cell_type": "code",
   "execution_count": 377,
   "id": "5773e7d4",
   "metadata": {},
   "outputs": [],
   "source": [
    "dataset = pd.read_csv(\"dataset/dataset.csv\")\n",
    "y = dataset['36']\n",
    "X = dataset.drop(columns=['36'])\n",
    "def remap_labels(labels):\n",
    "    remap_dict = {1: 0, 2: 1, 3: 2, 4: 3, 5: 4, 7: 5}\n",
    "    return [remap_dict[label] for label in labels]\n",
    "\n",
    "remapped_labels = remap_labels(y.values)"
   ]
  },
  {
   "cell_type": "code",
   "execution_count": 378,
   "id": "d43b5678",
   "metadata": {},
   "outputs": [],
   "source": [
    "scaler = StandardScaler()\n",
    "X_scaled = scaler.fit_transform(X.values)"
   ]
  },
  {
   "cell_type": "code",
   "execution_count": 379,
   "id": "4ec64324",
   "metadata": {},
   "outputs": [
    {
     "name": "stderr",
     "output_type": "stream",
     "text": [
      "C:\\Users\\pars iran\\AppData\\Roaming\\Python\\Python311\\site-packages\\sklearn\\preprocessing\\_encoders.py:868: FutureWarning: `sparse` was renamed to `sparse_output` in version 1.2 and will be removed in 1.4. `sparse_output` is ignored unless you leave `sparse` to its default value.\n",
      "  warnings.warn(\n"
     ]
    }
   ],
   "source": [
    "encoder = OneHotEncoder(sparse=False)\n",
    "y_encoded = encoder.fit_transform(np.array(remapped_labels).reshape(-1, 1))"
   ]
  },
  {
   "cell_type": "code",
   "execution_count": 523,
   "id": "c2d6a145",
   "metadata": {},
   "outputs": [],
   "source": [
    "import numpy as np\n",
    "import matplotlib.pyplot as plt\n",
    "\n",
    "class SLFN:\n",
    "    def __init__(self, input_size, output_size):\n",
    "        np.random.seed(86)\n",
    "        \n",
    "        self.weights = np.random.rand(input_size, output_size) * 0.01\n",
    "        self.biases = np.zeros((1, output_size))\n",
    "        \n",
    "    def softmax(self, x):\n",
    "        exp_x = np.exp(x - np.max(x, axis=1, keepdims=True))\n",
    "        return exp_x / np.sum(exp_x, axis=1, keepdims=True)\n",
    "    \n",
    "    def cross_entropy_loss(self, y_true, y_pred):\n",
    "        return -np.mean(np.sum(y_true * np.log(y_pred + 1e-12), axis=1))\n",
    "    \n",
    "    def forward(self, x):\n",
    "        z = np.dot(x, self.weights) + self.biases\n",
    "        return self.softmax(z)\n",
    "    \n",
    "    def predict(self, X):\n",
    "        y_pred = self.forward(X)\n",
    "        return np.argmax(y_pred, axis=1)\n",
    "    \n",
    "    def accuracy(self, y_true, y_pred):\n",
    "        return np.mean(np.argmax(y_true, axis=1) == y_pred)\n",
    "    \n",
    "    def train(self, X, y, epochs, lr):\n",
    "        losses = []\n",
    "        accuracies = []\n",
    "        \n",
    "\n",
    "        for epoch in tqdm(range(epochs), desc=\"Training Progress\"):\n",
    "            indices = np.arange(X.shape[0])\n",
    "            np.random.shuffle(indices)\n",
    "            X_shuffled = X[indices]\n",
    "            y_shuffled = y[indices]\n",
    "\n",
    "            for i in range(X_shuffled.shape[0]):\n",
    "                X_sample = X_shuffled[i:i+1]\n",
    "                y_sample = y_shuffled[i:i+1]\n",
    "\n",
    "                # Forward pass\n",
    "                y_pred = self.forward(X_sample)\n",
    "\n",
    "                # Backward pass\n",
    "                d_loss_y_pred = y_pred - y_sample\n",
    "                d_loss_weights = np.dot(X_sample.T, d_loss_y_pred) / X_sample.shape[0]\n",
    "                d_loss_biases = np.mean(d_loss_y_pred, axis=0, keepdims=True)\n",
    "\n",
    "                # Update weights and biases\n",
    "                self.weights -= lr * d_loss_weights\n",
    "                self.biases -= lr * d_loss_biases\n",
    "\n",
    "            \n",
    "            pred_labels = self.predict(X)\n",
    "            pred_labels_encoded = self.forward(X)\n",
    "            loss = self.cross_entropy_loss(y, pred_labels_encoded)\n",
    "            losses.append(loss)\n",
    "            \n",
    "            acc = self.accuracy(y, pred_labels)\n",
    "            accuracies.append(acc)\n",
    "\n",
    "        plt.figure(figsize=(12, 5))\n",
    "        plt.subplot(1, 2, 1)\n",
    "        plt.plot(losses, label='Loss')\n",
    "        plt.title('Loss during training')\n",
    "        plt.xlabel('Iteration')\n",
    "        plt.ylabel('Loss')\n",
    "        plt.legend()\n",
    "\n",
    "        plt.subplot(1, 2, 2)\n",
    "        plt.plot(accuracies, label='Accuracy', color='orange')\n",
    "        plt.title('Accuracy during training')\n",
    "        plt.xlabel('Epoch')\n",
    "        plt.ylabel('Accuracy')\n",
    "        plt.legend()\n",
    "        plt.show()"
   ]
  },
  {
   "cell_type": "code",
   "execution_count": 524,
   "id": "d94df7e3",
   "metadata": {},
   "outputs": [],
   "source": [
    "X_train, X_test, y_train, y_test = train_test_split(X_scaled, y_encoded, test_size=0.2, random_state=42)"
   ]
  },
  {
   "cell_type": "code",
   "execution_count": 525,
   "id": "2d6e6c37",
   "metadata": {
    "scrolled": false
   },
   "outputs": [
    {
     "data": {
      "application/vnd.jupyter.widget-view+json": {
       "model_id": "d26dd1e3ecf941b1b2afcc6175461b3b",
       "version_major": 2,
       "version_minor": 0
      },
      "text/plain": [
       "Training Progress:   0%|          | 0/5 [00:00<?, ?it/s]"
      ]
     },
     "metadata": {},
     "output_type": "display_data"
    },
    {
     "data": {
      "image/png": "[encoded data removed]",
      "text/plain": [
       "<Figure size 1200x500 with 2 Axes>"
      ]
     },
     "metadata": {},
     "output_type": "display_data"
    }
   ],
   "source": [
    "\n",
    "slfn = SLFN(input_size, output_size)\n",
    "slfn.train(X_train, y_train, epochs=5, lr=0.1)"
   ]
  },
  {
   "cell_type": "code",
   "execution_count": 526,
   "id": "7c23bac8",
   "metadata": {},
   "outputs": [
    {
     "name": "stdout",
     "output_type": "stream",
     "text": [
      "Classification Report:\n",
      "              precision    recall  f1-score   support\n",
      "\n",
      "           0       0.97      0.96      0.96       278\n",
      "           1       0.94      0.97      0.95       270\n",
      "           2       0.80      0.94      0.86       290\n",
      "           3       0.74      0.75      0.75       279\n",
      "           4       0.87      0.79      0.83       279\n",
      "           5       0.86      0.75      0.80       284\n",
      "\n",
      "    accuracy                           0.86      1680\n",
      "   macro avg       0.86      0.86      0.86      1680\n",
      "weighted avg       0.86      0.86      0.86      1680\n",
      "\n"
     ]
    }
   ],
   "source": [
    "y_pred = slfn.predict(X_train)\n",
    "report = classification_report(np.argmax(y_train,axis=1), y_pred)\n",
    "print(\"Classification Report:\")\n",
    "print(report)"
   ]
  },
  {
   "cell_type": "code",
   "execution_count": 527,
   "id": "9de5168a",
   "metadata": {},
   "outputs": [
    {
     "name": "stdout",
     "output_type": "stream",
     "text": [
      "Classification Report:\n",
      "              precision    recall  f1-score   support\n",
      "\n",
      "           0       0.99      0.99      0.99        72\n",
      "           1       0.87      0.93      0.90        80\n",
      "           2       0.79      0.98      0.87        60\n",
      "           3       0.79      0.73      0.76        71\n",
      "           4       0.85      0.85      0.85        71\n",
      "           5       0.94      0.73      0.82        66\n",
      "\n",
      "    accuracy                           0.87       420\n",
      "   macro avg       0.87      0.87      0.86       420\n",
      "weighted avg       0.87      0.87      0.86       420\n",
      "\n"
     ]
    }
   ],
   "source": [
    "y_pred = slfn.predict(X_test)\n",
    "report = classification_report(np.argmax(y_test,axis=1), y_pred)\n",
    "print(\"Classification Report:\")\n",
    "print(report)"
   ]
  },
  {
   "cell_type": "code",
   "execution_count": 458,
   "id": "ea7ffeb3",
   "metadata": {},
   "outputs": [],
   "source": [
    "testset = pd.read_csv(\"dataset/tests.csv\")"
   ]
  },
  {
   "cell_type": "code",
   "execution_count": 459,
   "id": "d8e5159c",
   "metadata": {},
   "outputs": [],
   "source": [
    "scaler = StandardScaler()\n",
    "test_scaled = scaler.fit_transform(testset.values)"
   ]
  },
  {
   "cell_type": "code",
   "execution_count": 460,
   "id": "ce9844b9",
   "metadata": {},
   "outputs": [],
   "source": [
    "test_pred = slfn.predict(test_scaled)"
   ]
  }
 ],
 "metadata": {
  "kernelspec": {
   "display_name": "Python 3 (ipykernel)",
   "language": "python",
   "name": "python3"
  },
  "language_info": {
   "codemirror_mode": {
    "name": "ipython",
    "version": 3
   },
   "file_extension": ".py",
   "mimetype": "text/x-python",
   "name": "python",
   "nbconvert_exporter": "python",
   "pygments_lexer": "ipython3",
   "version": "3.11.5"
  }
 },
 "nbformat": 4,
 "nbformat_minor": 5
}
